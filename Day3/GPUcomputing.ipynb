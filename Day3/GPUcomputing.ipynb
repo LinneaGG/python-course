{
  "nbformat": 4,
  "nbformat_minor": 0,
  "metadata": {
    "colab": {
      "provenance": [],
      "gpuType": "T4"
    },
    "kernelspec": {
      "name": "python3",
      "display_name": "Python 3"
    },
    "language_info": {
      "name": "python"
    },
    "accelerator": "GPU"
  },
  "cells": [
    {
      "cell_type": "code",
      "execution_count": 1,
      "metadata": {
        "colab": {
          "base_uri": "https://localhost:8080/"
        },
        "id": "nAsM69Nge50f",
        "outputId": "5b54bb91-a48c-43d3-ac5b-c9d0d6afb09b"
      },
      "outputs": [
        {
          "output_type": "stream",
          "name": "stdout",
          "text": [
            "Mon Feb 26 12:56:45 2024       \n",
            "+---------------------------------------------------------------------------------------+\n",
            "| NVIDIA-SMI 535.104.05             Driver Version: 535.104.05   CUDA Version: 12.2     |\n",
            "|-----------------------------------------+----------------------+----------------------+\n",
            "| GPU  Name                 Persistence-M | Bus-Id        Disp.A | Volatile Uncorr. ECC |\n",
            "| Fan  Temp   Perf          Pwr:Usage/Cap |         Memory-Usage | GPU-Util  Compute M. |\n",
            "|                                         |                      |               MIG M. |\n",
            "|=========================================+======================+======================|\n",
            "|   0  Tesla T4                       Off | 00000000:00:04.0 Off |                    0 |\n",
            "| N/A   60C    P8              10W /  70W |      0MiB / 15360MiB |      0%      Default |\n",
            "|                                         |                      |                  N/A |\n",
            "+-----------------------------------------+----------------------+----------------------+\n",
            "                                                                                         \n",
            "+---------------------------------------------------------------------------------------+\n",
            "| Processes:                                                                            |\n",
            "|  GPU   GI   CI        PID   Type   Process name                            GPU Memory |\n",
            "|        ID   ID                                                             Usage      |\n",
            "|=======================================================================================|\n",
            "|  No running processes found                                                           |\n",
            "+---------------------------------------------------------------------------------------+\n"
          ]
        }
      ],
      "source": [
        "!nvidia-smi"
      ]
    },
    {
      "cell_type": "code",
      "source": [
        "import numpy as np\n",
        "import cupy as cp\n",
        "import timeit"
      ],
      "metadata": {
        "id": "lJTpjR5LhZGY"
      },
      "execution_count": 2,
      "outputs": []
    },
    {
      "cell_type": "code",
      "source": [
        "def fourier_numpy(N):\n",
        "    rand_array = np.random.random((N, N))\n",
        "    result = np.fft.fft2(rand_array)\n",
        "    return result"
      ],
      "metadata": {
        "id": "AwSvUs7MhzDF"
      },
      "execution_count": 3,
      "outputs": []
    },
    {
      "cell_type": "code",
      "source": [
        "def fourier_numpy_float(N):\n",
        "    rand_array = np.random.rand(N, N).astype(np.float32)\n",
        "    result = np.fft.fft2(rand_array)\n",
        "    return result"
      ],
      "metadata": {
        "id": "2TO_H2Uviumb"
      },
      "execution_count": 18,
      "outputs": []
    },
    {
      "cell_type": "code",
      "source": [
        "def fourier_cupy(N):\n",
        "    rand_array = cp.random.random((N, N))\n",
        "    result = cp.fft.fft2(rand_array)\n",
        "    return result"
      ],
      "metadata": {
        "id": "AQKo9IVCh169"
      },
      "execution_count": 5,
      "outputs": []
    },
    {
      "cell_type": "markdown",
      "source": [
        "128x128"
      ],
      "metadata": {
        "id": "1zZlmrlgkvGY"
      }
    },
    {
      "cell_type": "code",
      "source": [
        "%timeit fourier_numpy(128)"
      ],
      "metadata": {
        "colab": {
          "base_uri": "https://localhost:8080/"
        },
        "id": "dQZK3YiCiWpZ",
        "outputId": "0c46d8a6-73f0-49a2-aa27-d99953d3bb46"
      },
      "execution_count": 7,
      "outputs": [
        {
          "output_type": "stream",
          "name": "stdout",
          "text": [
            "405 µs ± 109 µs per loop (mean ± std. dev. of 7 runs, 1000 loops each)\n"
          ]
        }
      ]
    },
    {
      "cell_type": "code",
      "source": [
        "%timeit fourier_cupy(128)"
      ],
      "metadata": {
        "colab": {
          "base_uri": "https://localhost:8080/"
        },
        "id": "v_OrbU4Kjmk8",
        "outputId": "34881ffb-8246-4d8d-b8b5-640a29ce52ee"
      },
      "execution_count": 8,
      "outputs": [
        {
          "output_type": "stream",
          "name": "stdout",
          "text": [
            "105 µs ± 7.83 µs per loop (mean ± std. dev. of 7 runs, 10000 loops each)\n"
          ]
        }
      ]
    },
    {
      "cell_type": "markdown",
      "source": [
        "256x256"
      ],
      "metadata": {
        "id": "dBYMzfRIkxbF"
      }
    },
    {
      "cell_type": "code",
      "source": [
        "%timeit fourier_numpy(256)"
      ],
      "metadata": {
        "colab": {
          "base_uri": "https://localhost:8080/"
        },
        "id": "01PofUSMjstT",
        "outputId": "d42a7ed8-873f-4eee-e46a-b90921b1371a"
      },
      "execution_count": 9,
      "outputs": [
        {
          "output_type": "stream",
          "name": "stdout",
          "text": [
            "1.54 ms ± 76.3 µs per loop (mean ± std. dev. of 7 runs, 1000 loops each)\n"
          ]
        }
      ]
    },
    {
      "cell_type": "code",
      "source": [
        "%timeit fourier_cupy(256)"
      ],
      "metadata": {
        "colab": {
          "base_uri": "https://localhost:8080/"
        },
        "id": "4s6CyxwSj1HV",
        "outputId": "89334d3d-3a18-4328-94c3-671fcdde0861"
      },
      "execution_count": 10,
      "outputs": [
        {
          "output_type": "stream",
          "name": "stdout",
          "text": [
            "104 µs ± 7.32 µs per loop (mean ± std. dev. of 7 runs, 10000 loops each)\n"
          ]
        }
      ]
    },
    {
      "cell_type": "markdown",
      "source": [
        "512x512"
      ],
      "metadata": {
        "id": "C9XOzsAyk0Y4"
      }
    },
    {
      "cell_type": "code",
      "source": [
        "%timeit fourier_numpy(512)"
      ],
      "metadata": {
        "colab": {
          "base_uri": "https://localhost:8080/"
        },
        "id": "DM5Z71Uzj12R",
        "outputId": "f75df20f-ee77-47ad-b81a-6810264645a5"
      },
      "execution_count": 11,
      "outputs": [
        {
          "output_type": "stream",
          "name": "stdout",
          "text": [
            "9.65 ms ± 631 µs per loop (mean ± std. dev. of 7 runs, 100 loops each)\n"
          ]
        }
      ]
    },
    {
      "cell_type": "code",
      "source": [
        "%timeit fourier_cupy(512)"
      ],
      "metadata": {
        "colab": {
          "base_uri": "https://localhost:8080/"
        },
        "id": "IvxRc7stj2IS",
        "outputId": "48e9d4ab-34b0-4271-943f-45a8ac7c8f5a"
      },
      "execution_count": 12,
      "outputs": [
        {
          "output_type": "stream",
          "name": "stdout",
          "text": [
            "260 µs ± 268 ns per loop (mean ± std. dev. of 7 runs, 1000 loops each)\n"
          ]
        }
      ]
    },
    {
      "cell_type": "markdown",
      "source": [
        "1024x1024"
      ],
      "metadata": {
        "id": "xHRQXo5ck24q"
      }
    },
    {
      "cell_type": "code",
      "source": [
        "%timeit fourier_numpy(1024)"
      ],
      "metadata": {
        "colab": {
          "base_uri": "https://localhost:8080/"
        },
        "id": "-1tx5bXUj2Y7",
        "outputId": "b2b652f8-45d6-4fb8-e1b3-af7477c2cb82"
      },
      "execution_count": 13,
      "outputs": [
        {
          "output_type": "stream",
          "name": "stdout",
          "text": [
            "37.2 ms ± 623 µs per loop (mean ± std. dev. of 7 runs, 10 loops each)\n"
          ]
        }
      ]
    },
    {
      "cell_type": "code",
      "source": [
        "%timeit fourier_cupy(1024)"
      ],
      "metadata": {
        "colab": {
          "base_uri": "https://localhost:8080/"
        },
        "id": "EML8mN35j2mj",
        "outputId": "cfc07dd0-9506-4a80-a655-18c4b7071fb2"
      },
      "execution_count": 14,
      "outputs": [
        {
          "output_type": "stream",
          "name": "stdout",
          "text": [
            "1.19 ms ± 912 ns per loop (mean ± std. dev. of 7 runs, 1000 loops each)\n"
          ]
        }
      ]
    },
    {
      "cell_type": "markdown",
      "source": [
        "2048x2048"
      ],
      "metadata": {
        "id": "iK-SuXi6k5zL"
      }
    },
    {
      "cell_type": "code",
      "source": [
        "%timeit fourier_numpy(2048)"
      ],
      "metadata": {
        "colab": {
          "base_uri": "https://localhost:8080/"
        },
        "id": "5OIShUAcj21s",
        "outputId": "f3a75530-8521-42f7-fe48-fc9a5ea5d4db"
      },
      "execution_count": 15,
      "outputs": [
        {
          "output_type": "stream",
          "name": "stdout",
          "text": [
            "195 ms ± 24.8 ms per loop (mean ± std. dev. of 7 runs, 10 loops each)\n"
          ]
        }
      ]
    },
    {
      "cell_type": "code",
      "source": [
        "%timeit fourier_cupy(2048)"
      ],
      "metadata": {
        "colab": {
          "base_uri": "https://localhost:8080/"
        },
        "id": "gh8fclXdj3Db",
        "outputId": "c52c3ce9-4dbd-42a0-f10f-7035911959eb"
      },
      "execution_count": 16,
      "outputs": [
        {
          "output_type": "stream",
          "name": "stdout",
          "text": [
            "4.71 ms ± 44 µs per loop (mean ± std. dev. of 7 runs, 1000 loops each)\n"
          ]
        }
      ]
    },
    {
      "cell_type": "markdown",
      "source": [
        "When datatype is float32:"
      ],
      "metadata": {
        "id": "poUyQyq_kofO"
      }
    },
    {
      "cell_type": "markdown",
      "source": [
        "128x128"
      ],
      "metadata": {
        "id": "GusYciiIk_Vg"
      }
    },
    {
      "cell_type": "code",
      "source": [
        "%timeit fourier_numpy_float(128)"
      ],
      "metadata": {
        "colab": {
          "base_uri": "https://localhost:8080/"
        },
        "id": "GZSMKWbvknYC",
        "outputId": "5ba3e7ab-3621-4004-966a-66fd2ba9b41f"
      },
      "execution_count": 19,
      "outputs": [
        {
          "output_type": "stream",
          "name": "stdout",
          "text": [
            "360 µs ± 15.3 µs per loop (mean ± std. dev. of 7 runs, 1000 loops each)\n"
          ]
        }
      ]
    },
    {
      "cell_type": "markdown",
      "source": [
        "256x256"
      ],
      "metadata": {
        "id": "Q5Hx0OBElDRQ"
      }
    },
    {
      "cell_type": "code",
      "source": [
        "%timeit fourier_numpy_float(256)"
      ],
      "metadata": {
        "colab": {
          "base_uri": "https://localhost:8080/"
        },
        "id": "g75lNRXolEyD",
        "outputId": "900829da-9408-4ba7-9d05-35dad8adcae9"
      },
      "execution_count": 20,
      "outputs": [
        {
          "output_type": "stream",
          "name": "stdout",
          "text": [
            "1.64 ms ± 371 µs per loop (mean ± std. dev. of 7 runs, 1000 loops each)\n"
          ]
        }
      ]
    },
    {
      "cell_type": "markdown",
      "source": [
        "512x512"
      ],
      "metadata": {
        "id": "FMsMqqRKlHsN"
      }
    },
    {
      "cell_type": "code",
      "source": [
        "%timeit fourier_numpy_float(512)"
      ],
      "metadata": {
        "colab": {
          "base_uri": "https://localhost:8080/"
        },
        "id": "iVV2Ajk7lJTn",
        "outputId": "8f2f7466-06fd-465b-e6b6-854084203a72"
      },
      "execution_count": 21,
      "outputs": [
        {
          "output_type": "stream",
          "name": "stdout",
          "text": [
            "8.3 ms ± 1.79 ms per loop (mean ± std. dev. of 7 runs, 100 loops each)\n"
          ]
        }
      ]
    },
    {
      "cell_type": "markdown",
      "source": [
        "1024x1024"
      ],
      "metadata": {
        "id": "g30xB9uJlKYG"
      }
    },
    {
      "cell_type": "code",
      "source": [
        "%timeit fourier_numpy_float(1024)"
      ],
      "metadata": {
        "colab": {
          "base_uri": "https://localhost:8080/"
        },
        "id": "0zE2RjkmlL76",
        "outputId": "be93bc16-db61-4f33-b0d2-7659a23827b6"
      },
      "execution_count": 22,
      "outputs": [
        {
          "output_type": "stream",
          "name": "stdout",
          "text": [
            "39.1 ms ± 454 µs per loop (mean ± std. dev. of 7 runs, 10 loops each)\n"
          ]
        }
      ]
    },
    {
      "cell_type": "markdown",
      "source": [
        "2048x2048"
      ],
      "metadata": {
        "id": "S-rSmiZNlN_-"
      }
    },
    {
      "cell_type": "code",
      "source": [
        "%timeit fourier_numpy_float(2048)"
      ],
      "metadata": {
        "colab": {
          "base_uri": "https://localhost:8080/"
        },
        "id": "81CwMzWjlQtM",
        "outputId": "8b60424f-142d-49a2-8b61-a59c28816f28"
      },
      "execution_count": 23,
      "outputs": [
        {
          "output_type": "stream",
          "name": "stdout",
          "text": [
            "192 ms ± 21.7 ms per loop (mean ± std. dev. of 7 runs, 10 loops each)\n"
          ]
        }
      ]
    }
  ]
}